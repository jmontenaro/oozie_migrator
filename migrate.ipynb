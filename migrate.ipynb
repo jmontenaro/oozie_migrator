{
 "cells": [
  {
   "cell_type": "markdown",
   "id": "cc821eca-d455-4b3e-9724-1e1165601375",
   "metadata": {},
   "source": [
    "## Migrating Oozie Workflows to Airflow CDE DAGs"
   ]
  },
  {
   "cell_type": "code",
   "execution_count": null,
   "id": "37a92a02-5995-472c-8922-8bcf981e3c88",
   "metadata": {
    "tags": []
   },
   "outputs": [],
   "source": [
    "%load_ext autoreload\n",
    "%autoreload 2"
   ]
  },
  {
   "cell_type": "code",
   "execution_count": null,
   "id": "acce28ea-eefd-4d48-a261-a3da03aaaec2",
   "metadata": {
    "tags": []
   },
   "outputs": [],
   "source": [
    "!pip install pandas\n",
    "!pip install requests_toolbelt\n",
    "!pip install xmltodict"
   ]
  },
  {
   "cell_type": "code",
   "execution_count": null,
   "id": "f2694c89-d7b2-48d7-97bf-c6880fe647ff",
   "metadata": {
    "tags": []
   },
   "outputs": [],
   "source": [
    "import migration_utility.workflow as workflow\n",
    "import migration_utility.cdejob as cdejob\n",
    "import migration_utility.cderesource as cderesource\n",
    "import os"
   ]
  },
  {
   "cell_type": "code",
   "execution_count": null,
   "id": "54f2d351-dd33-4cc1-ac15-c9addd48c36f",
   "metadata": {
    "tags": []
   },
   "outputs": [],
   "source": [
    "project_input_dir = 'input'\n",
    "project_output_dir = 'output'\n",
    "\n",
    "dag_file = 'combined.py'\n",
    "dag_name = 'combined'\n",
    "\n",
    "cde_prefix = 'jmontenaro_combined'\n",
    "cde_resource_name = 'resource'\n",
    "cde_job_name = 'job'\n",
    "\n",
    "hive_connection = 'default-hive-aws'"
   ]
  },
  {
   "cell_type": "code",
   "execution_count": null,
   "id": "83aba04f-4cfc-49da-b5cd-de181d782ff9",
   "metadata": {
    "tags": []
   },
   "outputs": [],
   "source": [
    "os.environ[\"WORKLOAD_USER\"] = \"\"\n",
    "os.environ[\"WORKLOAD_PASSWORD\"] = \"\"\n",
    "os.environ[\"JOBS_API_URL\"] = \"\""
   ]
  },
  {
   "cell_type": "code",
   "execution_count": null,
   "id": "873dbcb8-da3b-49c9-a6ff-647e294a844f",
   "metadata": {
    "tags": []
   },
   "outputs": [],
   "source": [
    "!mkdir -p {project_output_dir}"
   ]
  },
  {
   "cell_type": "code",
   "execution_count": null,
   "id": "f03f16e9-1786-4edf-a6f6-f508f43d32ab",
   "metadata": {
    "tags": []
   },
   "outputs": [],
   "source": [
    "ow = workflow.OozieWorkflow(project_input_dir)"
   ]
  },
  {
   "cell_type": "code",
   "execution_count": null,
   "id": "e356e47b-6a37-457e-8f9f-4724f2a86aa0",
   "metadata": {
    "tags": []
   },
   "outputs": [],
   "source": [
    "workflow_dict = ow.create_workflow_dict()\n",
    "workflow_dict"
   ]
  },
  {
   "cell_type": "code",
   "execution_count": null,
   "id": "e691bfcf-6616-42ff-9ea5-db65bc87aa7a",
   "metadata": {
    "tags": []
   },
   "outputs": [],
   "source": [
    "workflow_props = ow.create_workflow_props()\n",
    "workflow_props"
   ]
  },
  {
   "cell_type": "code",
   "execution_count": null,
   "id": "f97b123e-04c1-43cb-b31f-64833f0cf895",
   "metadata": {
    "tags": []
   },
   "outputs": [],
   "source": [
    "workflow_dict = ow.replace_workflow_props(workflow_dict, workflow_props)\n",
    "workflow_dict"
   ]
  },
  {
   "cell_type": "code",
   "execution_count": null,
   "id": "7ef51b4a-60a2-4a46-b3b5-033236d851ef",
   "metadata": {
    "tags": []
   },
   "outputs": [],
   "source": [
    "cj = cdejob.CDEJob(workflow_dict, hive_connection, cde_prefix, cde_resource_name, dag_name)"
   ]
  },
  {
   "cell_type": "code",
   "execution_count": null,
   "id": "9e951158-ff55-4948-8a76-1504c22f4d83",
   "metadata": {
    "tags": []
   },
   "outputs": [],
   "source": [
    "cj.initialize_dag(project_output_dir, dag_file)\n",
    "cj.dag_imports(project_output_dir, dag_file)\n",
    "cj.dag_declaration('jmontenaro', project_output_dir, dag_file)"
   ]
  },
  {
   "cell_type": "code",
   "execution_count": null,
   "id": "20fd907f-bff5-48c3-8143-2ef23a5285ce",
   "metadata": {
    "tags": []
   },
   "outputs": [],
   "source": [
    "spark_payloads = cj.parse_oozie_workflow(project_output_dir, dag_file, workflow_dict)\n",
    "spark_payloads"
   ]
  },
  {
   "cell_type": "code",
   "execution_count": null,
   "id": "24dc067d-f163-41b6-b8d6-2b813eb90500",
   "metadata": {
    "tags": []
   },
   "outputs": [],
   "source": [
    "with open(project_output_dir + \"/\" + dag_file, 'r') as f:\n",
    "    print(f.read())"
   ]
  },
  {
   "cell_type": "code",
   "execution_count": null,
   "id": "f0a2b7d2-bf0f-4e05-9901-0836b000b548",
   "metadata": {
    "tags": []
   },
   "outputs": [],
   "source": [
    "airflow_cde_payload = cj.oozie_to_cde_airflow_payload(dag_file, cde_resource_name, cde_job_name)\n",
    "airflow_cde_payload"
   ]
  },
  {
   "cell_type": "code",
   "execution_count": null,
   "id": "4d93275f-4aa7-48e9-923d-caa02ccbff05",
   "metadata": {
    "tags": []
   },
   "outputs": [],
   "source": [
    "cr = cderesource.CDEResource(os.environ[\"JOBS_API_URL\"], os.environ[\"WORKLOAD_USER\"], cde_prefix, cde_resource_name)"
   ]
  },
  {
   "cell_type": "code",
   "execution_count": null,
   "id": "9c711693-4a3a-4ff9-b40b-5e3500c20509",
   "metadata": {
    "tags": []
   },
   "outputs": [],
   "source": [
    "token = cr.set_cde_token(os.environ[\"WORKLOAD_PASSWORD\"])"
   ]
  },
  {
   "cell_type": "code",
   "execution_count": null,
   "id": "ef6ca614-31ef-498f-a272-0d1917167601",
   "metadata": {
    "tags": []
   },
   "outputs": [],
   "source": [
    "cr.create_cde_resource(token, cde_resource_name)"
   ]
  },
  {
   "cell_type": "code",
   "execution_count": null,
   "id": "cb0d0b84-cb12-4a10-bf53-fa1ff145b66f",
   "metadata": {
    "tags": []
   },
   "outputs": [],
   "source": [
    "cr.upload_file(cde_resource_name, project_input_dir, \"pi.scala\", token)"
   ]
  },
  {
   "cell_type": "code",
   "execution_count": null,
   "id": "9caa2496-8a98-47cf-b769-42daf661a0bc",
   "metadata": {
    "tags": []
   },
   "outputs": [],
   "source": [
    "for spark_payload in spark_payloads:\n",
    "    cr.create_job_from_resource(token, spark_payload)"
   ]
  },
  {
   "cell_type": "code",
   "execution_count": null,
   "id": "18444cb5-8711-41a1-9d87-a9025de35d14",
   "metadata": {
    "tags": []
   },
   "outputs": [],
   "source": [
    "cr.upload_file(cde_resource_name, project_output_dir, dag_file, token)"
   ]
  },
  {
   "cell_type": "code",
   "execution_count": null,
   "id": "0720695b-e441-4866-aaae-e4ed175799d5",
   "metadata": {
    "tags": []
   },
   "outputs": [],
   "source": [
    "cr.create_job_from_resource(token, airflow_cde_payload)"
   ]
  }
 ],
 "metadata": {
  "kernelspec": {
   "display_name": "Python 3 (ipykernel)",
   "language": "python",
   "name": "python3"
  },
  "language_info": {
   "codemirror_mode": {
    "name": "ipython",
    "version": 3
   },
   "file_extension": ".py",
   "mimetype": "text/x-python",
   "name": "python",
   "nbconvert_exporter": "python",
   "pygments_lexer": "ipython3",
   "version": "3.7.16"
  }
 },
 "nbformat": 4,
 "nbformat_minor": 5
}
